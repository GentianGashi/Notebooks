{
    "cells": [
        {
            "metadata": {
                "collapsed": true
            },
            "cell_type": "markdown",
            "source": "# My Jupyter Notebook on IBM Watson Sudio"
        },
        {
            "metadata": {},
            "cell_type": "markdown",
            "source": "**Gentian Gashi**  \n    Data Scientist / AI Research Scientist"
        },
        {
            "metadata": {},
            "cell_type": "markdown",
            "source": "*Being able to extract meaning from data and visualise patterns is makes data science worth learning.*"
        },
        {
            "metadata": {},
            "cell_type": "markdown",
            "source": "### The following code tests the Gauss formula:"
        },
        {
            "metadata": {},
            "cell_type": "code",
            "source": "def gauss(n):\n    return (n*(n+1))/2\ngauss(100) == sum(range(101))",
            "execution_count": 6,
            "outputs": [
                {
                    "output_type": "execute_result",
                    "execution_count": 6,
                    "data": {
                        "text/plain": "True"
                    },
                    "metadata": {}
                }
            ]
        },
        {
            "metadata": {},
            "cell_type": "markdown",
            "source": "* One Bullet Point\n* Two Bullet Point\n* Three Bullet Point"
        },
        {
            "metadata": {},
            "cell_type": "markdown",
            "source": "Markdown | Less | Pretty\n--- | --- | ---\n*Still* | `renders` | **nicely**\n1 | 2 | 3"
        }
    ],
    "metadata": {
        "kernelspec": {
            "name": "python3",
            "display_name": "Python 3.6",
            "language": "python"
        },
        "language_info": {
            "name": "python",
            "version": "3.6.9",
            "mimetype": "text/x-python",
            "codemirror_mode": {
                "name": "ipython",
                "version": 3
            },
            "pygments_lexer": "ipython3",
            "nbconvert_exporter": "python",
            "file_extension": ".py"
        }
    },
    "nbformat": 4,
    "nbformat_minor": 1
}